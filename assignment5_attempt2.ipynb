{
  "cells": [
    {
      "cell_type": "code",
      "execution_count": 28,
      "metadata": {
        "id": "H7TYhsKwt4ay"
      },
      "outputs": [],
      "source": [
        "import numpy as np\n",
        "import pandas as pd\n",
        "from sklearn.model_selection import train_test_split\n",
        "from sklearn.preprocessing import StandardScaler\n",
        "from sklearn.metrics import roc_auc_score\n",
        "from sklearn.model_selection import KFold"
      ]
    },
    {
      "cell_type": "code",
      "execution_count": 29,
      "metadata": {
        "id": "8hLHElRzt4az"
      },
      "outputs": [],
      "source": [
        "# Define the KNN class\n",
        "class KNN:\n",
        "    def __init__(self, k=3, distance_metric='euclidean'):\n",
        "        self.k = k\n",
        "        self.distance_metric = distance_metric\n",
        "\n",
        "    def fit(self, X, y):\n",
        "        # TODO: Implement the fit method\n",
        "        self.X_train = X\n",
        "        self.y_train = y\n",
        "\n",
        "    def predict(self, X):\n",
        "        # TODO: Implement the predict method\n",
        "\n",
        "        predictions = []\n",
        "        for x in X:\n",
        "            distances = self.compute_distance(x, self.X_train)\n",
        "            k_indices = np.argsort(distances)[:self.k]\n",
        "            k_nearest_labels = self.y_train[k_indices]\n",
        "            prediction = np.bincount(k_nearest_labels.astype(int)).argmax()\n",
        "            predictions.append(prediction)\n",
        "        return np.array(predictions)\n",
        "\n",
        "    def compute_distance(self, X1, X2):\n",
        "        # TODO: Implement distance computation based on self.distance_metric\n",
        "        # Hint: Use numpy operations for efficient computation\n",
        "\n",
        "        if self.distance_metric == 'euclidean':\n",
        "            return np.sqrt(np.sum((X1 - X2)**2, axis=1))\n",
        "        elif self.distance_metric == 'manhattan':\n",
        "            return np.sum(np.abs(X1 - X2), axis=1)\n",
        "        else:\n",
        "            raise ValueError(\"Unsupported distance metric\")"
      ]
    },
    {
      "cell_type": "code",
      "execution_count": 30,
      "metadata": {
        "id": "NKM6W0nnt4a0"
      },
      "outputs": [],
      "source": [
        "# Define data preprocessing function\n",
        "def preprocess_data(train_path, test_path):\n",
        "    train_data = pd.read_csv(train_path)\n",
        "    test_data = pd.read_csv(test_path)\n",
        "\n",
        "    # TODO: Implement data preprocessing\n",
        "    # Handle categorical variables, scale features, etc.\n",
        "\n",
        "    # Combine train and test for preprocessing\n",
        "    all_data = pd.concat([train_data, test_data], axis=0)\n",
        "\n",
        "    # Handle categorical variables\n",
        "    categorical_cols = ['Geography', 'Gender']\n",
        "    all_data = pd.get_dummies(all_data, columns=categorical_cols, drop_first=True)\n",
        "\n",
        "    # Handle missing values\n",
        "    # Only fill numeric columns with the mean\n",
        "    numeric_cols = all_data.select_dtypes(include=np.number).columns\n",
        "    all_data[numeric_cols] = all_data[numeric_cols].fillna(all_data[numeric_cols].mean())\n",
        "\n",
        "    # Scale features\n",
        "    scaler = StandardScaler()\n",
        "    # Exclude 'Surname' from feature_cols\n",
        "    feature_cols = [col for col in all_data.columns if col not in ['id', 'Exited', 'Surname']]\n",
        "    all_data[feature_cols] = scaler.fit_transform(all_data[feature_cols])\n",
        "\n",
        "    # Split back into train and test\n",
        "    train_data = all_data[:len(train_data)]\n",
        "    test_data = all_data[len(train_data):]\n",
        "\n",
        "    X = train_data[feature_cols].values\n",
        "    y = train_data['Exited'].values\n",
        "    X_test = test_data[feature_cols].values\n",
        "\n",
        "    return X, y, X_test"
      ]
    },
    {
      "cell_type": "code",
      "execution_count": 31,
      "metadata": {
        "id": "93wMEmC2t4a0"
      },
      "outputs": [],
      "source": [
        "# Define cross-validation function\n",
        "def cross_validate(X, y, knn, n_splits=5):\n",
        "    # TODO: Implement cross-validation\n",
        "    # Compute ROC AUC scores\n",
        "\n",
        "    kf = KFold(n_splits=n_splits, shuffle=True, random_state=42)\n",
        "    scores = []\n",
        "\n",
        "    for train_index, val_index in kf.split(X):\n",
        "        X_train, X_val = X[train_index], X[val_index]\n",
        "        y_train, y_val = y[train_index], y[val_index]\n",
        "\n",
        "        knn.fit(X_train, y_train)\n",
        "        y_pred = knn.predict(X_val)\n",
        "        score = roc_auc_score(y_val, y_pred)\n",
        "        scores.append(score)\n",
        "\n",
        "    return scores"
      ]
    },
    {
      "cell_type": "code",
      "execution_count": 32,
      "metadata": {
        "colab": {
          "base_uri": "https://localhost:8080/"
        },
        "id": "66-lRBtut4a1",
        "outputId": "c77fcc8e-ec4d-40de-972c-8b460aa75e75"
      },
      "outputs": [
        {
          "output_type": "stream",
          "name": "stdout",
          "text": [
            "Cross-validation scores: [0.7686115079322456, 0.775914882081865, 0.7654878653573722, 0.7535063969846578, 0.7649943447011512]\n",
            "Mean ROC AUC score: 0.7657029994114584\n",
            "Best hyperparameters: k=5, distance_metric=manhattan\n",
            "Best mean ROC AUC score: 0.7679656739060156\n"
          ]
        }
      ],
      "source": [
        "# Load and preprocess data\n",
        "X, y, X_test = preprocess_data('train.csv', 'test.csv')\n",
        "\n",
        "# Create and evaluate model\n",
        "knn = KNN(k=5, distance_metric='euclidean')\n",
        "\n",
        "# Perform cross-validation\n",
        "cv_scores = cross_validate(X, y, knn)\n",
        "\n",
        "print(\"Cross-validation scores:\", cv_scores)\n",
        "print(\"Mean ROC AUC score:\", np.mean(cv_scores))\n",
        "\n",
        "# TODO: hyperparamters tuning\n",
        "k_values = [3, 5, 7, 9, 11]\n",
        "distance_metrics = ['euclidean', 'manhattan']\n",
        "best_k = 0\n",
        "best_metric = ''\n",
        "best_score = 0\n",
        "\n",
        "for k in k_values:\n",
        "    for metric in distance_metrics:\n",
        "        knn = KNN(k=k, distance_metric=metric)\n",
        "        scores = cross_validate(X, y, knn)\n",
        "        mean_score = np.mean(scores)\n",
        "        if mean_score > best_score:\n",
        "            best_score = mean_score\n",
        "            best_k = k\n",
        "            best_metric = metric\n",
        "\n",
        "print(f\"Best hyperparameters: k={best_k}, distance_metric={best_metric}\")\n",
        "print(f\"Best mean ROC AUC score: {best_score}\")\n",
        "\n",
        "# TODO: Train on full dataset with optimal hyperparameters and make predictions on test set\n",
        "knn = KNN(k=best_k, distance_metric=best_metric)\n",
        "knn.fit(X, y)\n",
        "test_predictions = knn.predict(X_test)\n",
        "\n",
        "# Save test predictions\n",
        "pd.DataFrame({'id': pd.read_csv('test.csv')['id'], 'Exited': test_predictions}).to_csv('submissions.csv', index=False)"
      ]
    }
  ],
  "metadata": {
    "kernelspec": {
      "display_name": "cs506",
      "language": "python",
      "name": "python3"
    },
    "language_info": {
      "codemirror_mode": {
        "name": "ipython",
        "version": 3
      },
      "file_extension": ".py",
      "mimetype": "text/x-python",
      "name": "python",
      "nbconvert_exporter": "python",
      "pygments_lexer": "ipython3",
      "version": "3.10.15"
    },
    "colab": {
      "provenance": []
    }
  },
  "nbformat": 4,
  "nbformat_minor": 0
}