{
  "cells": [
    {
      "cell_type": "code",
      "execution_count": 11,
      "metadata": {
        "id": "na-nD3BLY170"
      },
      "outputs": [],
      "source": [
        "import numpy as np\n",
        "import pandas as pd"
      ]
    },
    {
      "cell_type": "code",
      "execution_count": 12,
      "metadata": {
        "id": "rja_9smjY172"
      },
      "outputs": [],
      "source": [
        "# Define the KNN class\n",
        "class KNN:\n",
        "    def __init__(self, k=3, distance_metric='euclidean'):\n",
        "        self.k = k\n",
        "        self.distance_metric = distance_metric\n",
        "\n",
        "    def fit(self, X, y):\n",
        "        # TODO: Implement the fit method\n",
        "        self.X_train = X\n",
        "        self.y_train = y\n",
        "\n",
        "    def predict(self, X):\n",
        "        return np.apply_along_axis(self.predict_proba, 1, X)\n",
        "\n",
        "    def predict_proba(self, X):\n",
        "        # TODO: Implement the predict method\n",
        "        distances = self.compute_distance(X, self.X_train)\n",
        "        k_nearest_indices = np.argpartition(distances, self.k)[:self.k]\n",
        "        k_nearest_labels = self.y_train[k_nearest_indices]\n",
        "        predictions = np.mean(k_nearest_labels)\n",
        "        return predictions\n",
        "\n",
        "    def compute_distance(self, X1, X2):\n",
        "        # TODO: Implement distance computation based on self.distance_metric\n",
        "        # Hint: Use numpy operations for efficient computation\n",
        "        if self.distance_metric == 'euclidean':\n",
        "            return np.linalg.norm(X1 - X2, axis=1)\n",
        "        elif self.distance_metric == 'manhattan':\n",
        "            return np.sum(np.abs(X1 - X2), axis=1)\n",
        "        else:\n",
        "            raise ValueError(\"Unsupported distance metric\")"
      ]
    },
    {
      "cell_type": "code",
      "execution_count": 13,
      "metadata": {
        "id": "v277GsvGY172"
      },
      "outputs": [],
      "source": [
        "# Define data preprocessing function\n",
        "def preprocess_data(train_path, test_path):\n",
        "    train_data = pd.read_csv(train_path)\n",
        "    test_data = pd.read_csv(test_path)\n",
        "\n",
        "    # TODO: Implement data preprocessing\n",
        "    # Handle categorical variables, scale features, etc.\n",
        "\n",
        "    # Combine train and test for preprocessing\n",
        "    all_data = pd.concat([train_data, test_data], axis=0)\n",
        "\n",
        "    all_data = pd.get_dummies(all_data, columns=['Geography', 'Gender'])\n",
        "\n",
        "    features = ['CreditScore', 'Age', 'Tenure', 'Balance', 'NumOfProducts', 'HasCrCard', 'IsActiveMember', 'EstimatedSalary'] + \\\n",
        "               [col for col in all_data.columns if col.startswith('Geography_') or col.startswith('Gender_')]\n",
        "\n",
        "    all_data[features] = (all_data[features] - all_data[features].mean()) / all_data[features].std()\n",
        "\n",
        "    X_train = all_data[features].iloc[:len(train_data)].values\n",
        "    y_train = train_data['Exited'].values\n",
        "    X_test = all_data[features].iloc[len(train_data):].values\n",
        "\n",
        "    return X_train, y_train, X_test"
      ]
    },
    {
      "cell_type": "code",
      "execution_count": 14,
      "metadata": {
        "id": "Mi9GLuK8Y173"
      },
      "outputs": [],
      "source": [
        "# Define cross-validation function\n",
        "def cross_validate(X, y, knn, n_splits=5):\n",
        "    # TODO: Implement cross-validation\n",
        "    # Compute ROC AUC scores\n",
        "\n",
        "    np.random.seed(42)\n",
        "    n = np.random.permutation(len(X))\n",
        "    fold_size = len(X) // n_splits\n",
        "    scores = []\n",
        "\n",
        "    for i in range(n_splits):\n",
        "        val_indices = n[i * fold_size:(i + 1) * fold_size]\n",
        "        train_indices = np.concatenate([n[:i * fold_size], n[(i + 1) * fold_size:]])\n",
        "\n",
        "        X_train, X_val = X[train_indices], X[val_indices]\n",
        "        y_train, y_val = y[train_indices], y[val_indices]\n",
        "\n",
        "        knn.fit(X_train, y_train)\n",
        "        y_pred_proba = knn.predict(X_val)\n",
        "        score = roc_auc_score(y_val, y_pred_proba)\n",
        "        scores.append(score)\n",
        "\n",
        "    return scores\n",
        "\n",
        "def roc_auc_score(y_true, y_score):\n",
        "    positive_indices = np.where(y_true == 1)[0]\n",
        "    negative_indices = np.where(y_true == 0)[0]\n",
        "\n",
        "    if len(positive_indices) == 0 or len(negative_indices) == 0:\n",
        "        return 0.5\n",
        "\n",
        "    n_positive = y_score[positive_indices]\n",
        "    n_negative = y_score[negative_indices]\n",
        "\n",
        "    positive_ranks = np.sum(n_positive[:, None] > n_negative)\n",
        "    auc = positive_ranks / (len(positive_indices) * len(negative_indices))\n",
        "\n",
        "    return auc"
      ]
    },
    {
      "cell_type": "code",
      "execution_count": 15,
      "metadata": {
        "colab": {
          "base_uri": "https://localhost:8080/"
        },
        "id": "rpoI5QwZY173",
        "outputId": "3cd4a8a6-cc2c-4cb9-8c3b-a17d31d42a5f"
      },
      "outputs": [
        {
          "output_type": "stream",
          "name": "stdout",
          "text": [
            "Cross-validation scores: [0.7837026455140117, 0.8193873678503659, 0.8125610574347233, 0.7861145617667357, 0.8205360286978428]\n",
            "Best hyperparameters: k=17, distance_metric=manhattan\n",
            "Best mean ROC AUC score: 0.8788329671681072\n"
          ]
        }
      ],
      "source": [
        "# Load and preprocess data\n",
        "X, y, X_test = preprocess_data('train.csv', 'test.csv')\n",
        "\n",
        "# Create and evaluate model\n",
        "knn = KNN(k=5, distance_metric='euclidean')\n",
        "\n",
        "# Perform cross-validation\n",
        "cv_scores = cross_validate(X, y, knn)\n",
        "\n",
        "print(\"Cross-validation scores:\", cv_scores)\n",
        "\n",
        "# TODO: hyperparamters tuning\n",
        "k_values = [3, 5, 7, 9, 11, 13, 15, 17]\n",
        "distance_metrics = ['euclidean', 'manhattan']\n",
        "best_k = 0\n",
        "best_metric = ''\n",
        "best_score = 0\n",
        "\n",
        "for k in k_values:\n",
        "    for metric in distance_metrics:\n",
        "        knn = KNN(k=k, distance_metric=metric)\n",
        "        scores = cross_validate(X, y, knn)\n",
        "        mean_score = np.mean(scores)\n",
        "        if mean_score > best_score:\n",
        "            best_score = mean_score\n",
        "            best_k = k\n",
        "            best_metric = metric\n",
        "\n",
        "print(f\"Best hyperparameters: k={best_k}, distance_metric={best_metric}\")\n",
        "print(f\"Best mean ROC AUC score: {best_score}\")\n",
        "\n",
        "# TODO: Train on full dataset with optimal hyperparameters and make predictions on test set\n",
        "knn = KNN(k=best_k, distance_metric=best_metric)\n",
        "knn.fit(X, y)\n",
        "test_predictions = knn.predict(X_test)\n",
        "\n",
        "# Save test predictions\n",
        "pd.DataFrame({'id': pd.read_csv('test.csv')['id'], 'Exited': test_predictions}).to_csv('submissions.csv', index=False)"
      ]
    }
  ],
  "metadata": {
    "colab": {
      "provenance": []
    },
    "kernelspec": {
      "display_name": "cs506",
      "language": "python",
      "name": "python3"
    },
    "language_info": {
      "codemirror_mode": {
        "name": "ipython",
        "version": 3
      },
      "file_extension": ".py",
      "mimetype": "text/x-python",
      "name": "python",
      "nbconvert_exporter": "python",
      "pygments_lexer": "ipython3",
      "version": "3.10.15"
    }
  },
  "nbformat": 4,
  "nbformat_minor": 0
}